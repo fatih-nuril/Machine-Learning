{
 "cells": [
  {
   "cell_type": "markdown",
   "id": "50cfb809-2558-4a53-baaf-51e55311358f",
   "metadata": {},
   "source": [
    "soal 1\n",
    "Buatlah identitas diri menggunakan pemograman python sederhana"
   ]
  },
  {
   "cell_type": "code",
   "execution_count": 10,
   "id": "f62527db-6c9e-4263-9548-16d90d0012e8",
   "metadata": {},
   "outputs": [
    {
     "name": "stdout",
     "output_type": "stream",
     "text": [
      "DATA DIRI\n",
      "Nama :  Muhammad Fatih Nuril Hadi\n",
      "nim:  20220801411\n",
      "Perkuliahan:  Machine Learning\n"
     ]
    }
   ],
   "source": [
    "#jawaban soal 1\n",
    "nama = \"Muhammad Fatih Nuril Hadi\"\n",
    "nim = \"20220801411\"\n",
    "mata_kuliah = \"Machine Learning\"\n",
    "\n",
    "print(\"DATA DIRI\")\n",
    "print(\"Nama : \", nama)\n",
    "print(\"nim: \", nim)\n",
    "print(\"Perkuliahan: \", mata_kuliah)"
   ]
  },
  {
   "cell_type": "markdown",
   "id": "b117daca-580a-4dee-ae03-562e4af9a83b",
   "metadata": {},
   "source": [
    "soal 2\n",
    "Buatlah matriksC dengan orde 2x3, dan nilai yang diberikan pada matriksC adalah sebagai berikut:"
   ]
  },
  {
   "cell_type": "code",
   "execution_count": 4,
   "id": "bd83bef3-1bf7-4d22-9799-6c82e81ad063",
   "metadata": {},
   "outputs": [
    {
     "name": "stdout",
     "output_type": "stream",
     "text": [
      "[[1, 2, 3], [4, 5, 6]]\n"
     ]
    }
   ],
   "source": [
    "#jawaban soal2\n",
    "matriksC= [[1,2,3],[4,5,6]]\n",
    "print(matriksC)"
   ]
  },
  {
   "cell_type": "markdown",
   "id": "44c16d0a-4627-4e81-b440-2affef16d932",
   "metadata": {},
   "source": [
    "soal 3\n",
    "Baris 1 Kolom 1, nilai = 2\n",
    "Baris 1 Kolom 2, nilai = 2\n",
    "Baris 2 Kolom 1, nilai = 2\n",
    "Baris 2 Kolom 2, nilai = 2\n",
    "Baris 3 Kolom 1, nilai = 2\n",
    "Baris 3 Kolom 2, nilai = 2"
   ]
  },
  {
   "cell_type": "code",
   "execution_count": 6,
   "id": "20121c35-2d3f-49fd-b021-3a3fabf6f978",
   "metadata": {},
   "outputs": [
    {
     "name": "stdout",
     "output_type": "stream",
     "text": [
      "[[2, 2], [2, 2], [2, 2]]\n"
     ]
    }
   ],
   "source": [
    "#jawaban soal 3\n",
    "matriks = [[2,2],[2,2],[2,2]]\n",
    "print(matriks)"
   ]
  },
  {
   "cell_type": "markdown",
   "id": "b2664c0d-a647-47b0-a7aa-1c0ec203a080",
   "metadata": {},
   "source": [
    "soal 4\n",
    "Importlah library Numpy"
   ]
  },
  {
   "cell_type": "code",
   "execution_count": 7,
   "id": "1bd9df5d-7c81-4fd2-9073-08dc4639ab77",
   "metadata": {},
   "outputs": [],
   "source": [
    "import numpy as np"
   ]
  },
  {
   "cell_type": "markdown",
   "id": "fdb35f27-2311-428e-9894-e59cd0939911",
   "metadata": {},
   "source": [
    "soal 5\n",
    "Dengan memanfaatkan library numpy Buatlah matriks dengan menggunakan Library Numpy dengan panjang elemen adalah 32 dan matriks memiliki orde 4x8"
   ]
  },
  {
   "cell_type": "code",
   "execution_count": 8,
   "id": "69949e1a-e53f-4d6e-a9b6-4439d3cf547f",
   "metadata": {},
   "outputs": [
    {
     "name": "stdout",
     "output_type": "stream",
     "text": [
      "[[ 0  1  2  3  4  5  6  7]\n",
      " [ 8  9 10 11 12 13 14 15]\n",
      " [16 17 18 19 20 21 22 23]\n",
      " [24 25 26 27 28 29 30 31]]\n"
     ]
    }
   ],
   "source": [
    "#jawaban 5\n",
    "from numpy import *\n",
    "matriks = range(32)\n",
    "matriks = reshape(matriks, (4,8))\n",
    "print(matriks)"
   ]
  },
  {
   "cell_type": "markdown",
   "id": "a1d2f004-28c4-4c11-b1f8-1c61937d59d9",
   "metadata": {},
   "source": [
    "soal 6\n",
    "Buatlah matriks dengan menggunakan Library Numpy dengan orde 3x30, dan nilai elemen dimulai dari indeks 1 sampai dengan 5 secara random."
   ]
  },
  {
   "cell_type": "code",
   "execution_count": 9,
   "id": "37229084-7094-4e78-9d51-eb4445cb3c79",
   "metadata": {},
   "outputs": [
    {
     "name": "stdout",
     "output_type": "stream",
     "text": [
      "[[3 2 4 3 1 2 1 4 4 2 3 1 4 4 4 1 1 3 2 2 1 1 3 4 4 3 2 3 3 2]\n",
      " [4 4 1 1 1 4 3 2 3 1 4 2 2 3 3 2 1 4 3 2 4 4 2 3 2 3 2 4 1 4]\n",
      " [4 2 4 2 3 3 2 1 3 2 4 1 2 2 3 4 2 1 4 3 2 1 4 4 1 4 1 1 1 4]]\n"
     ]
    }
   ],
   "source": [
    "#jawaban 6\n",
    "import numpy as np\n",
    "from numpy import *\n",
    "\n",
    "matriks = np.random.randint(1,5,(3,30))\n",
    "print(matriks)"
   ]
  }
 ],
 "metadata": {
  "kernelspec": {
   "display_name": "Python 3 (ipykernel)",
   "language": "python",
   "name": "python3"
  },
  "language_info": {
   "codemirror_mode": {
    "name": "ipython",
    "version": 3
   },
   "file_extension": ".py",
   "mimetype": "text/x-python",
   "name": "python",
   "nbconvert_exporter": "python",
   "pygments_lexer": "ipython3",
   "version": "3.10.6"
  }
 },
 "nbformat": 4,
 "nbformat_minor": 5
}
